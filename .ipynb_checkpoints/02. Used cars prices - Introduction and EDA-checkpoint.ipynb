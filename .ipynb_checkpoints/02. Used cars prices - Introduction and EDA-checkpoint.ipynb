{
 "cells": [
  {
   "cell_type": "markdown",
   "metadata": {},
   "source": [
    "# Used cars prices analysis\n",
    "\n",
    "## Problem formulation\n",
    "\n",
    "The problem at hand isn't really new and it _has been_ tackled numerous times. My guess is that the need for a real system for estimating the prices of used cars isn't the primary force behind this quest. Rather, I believe it is the availability and sheer amount of highly structured data that is available with just a little bit of scraping in every part of the world. Also, we are all car experts, aren't we?\n",
    "\n",
    "Personally, I really need to part with my old car - a beautiful silver Fiat Stilo with just under 290.000km on it and I have been skimming over the ads for the last couple of months (ok, years), only to see the average price precipitate and further demotivate me to get anything done really. There comes a point in a car's life when it really isn't worth selling anymore, you know that, right? Well, I won't get into that any further, but let's talk a bit about the data _before_ we take a peek at it.\n",
    "\n",
    "The problem I want to solve is the following:\n",
    "*given a brand, model, production year, odometer, engine type etc. try to predict as accurately as possible the price of the car*.\n",
    "\n",
    "It sounds pretty simple and really, it is - I just need a number, a number of euros to be precise. I need a system (mathematical, software, program, whatchamacallit) that will take these inputs, do some magic, and output a prediction or an _estimate_ (although, estimate wouldn't be a wise choice of word in this particular case, because it could get confused with the concept of statistical estimation, and we do not want that).\n",
    "\n",
    "This particular notebook will deal with the exploration of the scraped data, the so called process of EDA - Exploratory Data Analysis. A really fancy name for some, as it turns out, pretty simple mathematical operations.\n",
    "\n",
    "We'll import the basic libraries, and I will not get much into the details: a list of software prerequisites and useful resources is in the Appendix A of this series."
   ]
  },
  {
   "cell_type": "code",
   "execution_count": 1,
   "metadata": {},
   "outputs": [],
   "source": [
    "%matplotlib inline\n",
    "import numpy as np\n",
    "import pandas as pd\n",
    "import matplotlib\n",
    "import seaborn as sns\n",
    "\n",
    "color = sns.color_palette()\n",
    "\n",
    "import matplotlib.pyplot as plt\n",
    "matplotlib.rcParams['figure.figsize'] = (15.0, 10.0)\n",
    "\n",
    "from scipy import stats\n",
    "from scipy.stats import norm, skew #for some statistics\n",
    "\n",
    "from pandas_profiling import ProfileReport\n",
    "\n",
    "color_green='#46b038'"
   ]
  },
  {
   "cell_type": "markdown",
   "metadata": {},
   "source": [
    "Let's load our dataset and take a closer look."
   ]
  },
  {
   "cell_type": "code",
   "execution_count": 2,
   "metadata": {},
   "outputs": [],
   "source": [
    "# raw_data = pd.read_csv('clean.csv');\n",
    "raw_data = pd.read_csv('all_data.csv');"
   ]
  },
  {
   "cell_type": "markdown",
   "metadata": {},
   "source": [
    "### Pandas Profiling\n",
    "\n",
    "[Pandas Profiling](https://github.com/pandas-profiling/pandas-profiling) is a very interesting and useful package for pandas that allows us to quickly visualize the data - a special report actually. The report is full of useful information about the columns, the types of variables, the distributions and skewness etc. I imagine it would be a must have for any competition like Kaggle or project on a tight deadline. Tip: try it out.\n",
    "\n",
    "Now let's run the report."
   ]
  },
  {
   "cell_type": "code",
   "execution_count": 3,
   "metadata": {},
   "outputs": [
    {
     "data": {
      "text/html": [
       "<div>\n",
       "<style scoped>\n",
       "    .dataframe tbody tr th:only-of-type {\n",
       "        vertical-align: middle;\n",
       "    }\n",
       "\n",
       "    .dataframe tbody tr th {\n",
       "        vertical-align: top;\n",
       "    }\n",
       "\n",
       "    .dataframe thead th {\n",
       "        text-align: right;\n",
       "    }\n",
       "</style>\n",
       "<table border=\"1\" class=\"dataframe\">\n",
       "  <thead>\n",
       "    <tr style=\"text-align: right;\">\n",
       "      <th></th>\n",
       "      <th>brand</th>\n",
       "      <th>make</th>\n",
       "      <th>year</th>\n",
       "      <th>price</th>\n",
       "      <th>km</th>\n",
       "      <th>gearbox</th>\n",
       "      <th>doors</th>\n",
       "      <th>imported</th>\n",
       "      <th>kW</th>\n",
       "      <th>cm3</th>\n",
       "      <th>fuel</th>\n",
       "      <th>registered</th>\n",
       "      <th>color</th>\n",
       "      <th>aircon</th>\n",
       "      <th>damage</th>\n",
       "      <th>car_type</th>\n",
       "      <th>standard</th>\n",
       "      <th>drive</th>\n",
       "    </tr>\n",
       "  </thead>\n",
       "  <tbody>\n",
       "    <tr>\n",
       "      <th>0</th>\n",
       "      <td>Hyundai</td>\n",
       "      <td>ix35</td>\n",
       "      <td>2012</td>\n",
       "      <td>9000</td>\n",
       "      <td>143500</td>\n",
       "      <td>M</td>\n",
       "      <td>4/5</td>\n",
       "      <td>0</td>\n",
       "      <td>90</td>\n",
       "      <td>1600.0</td>\n",
       "      <td>petrol</td>\n",
       "      <td>0</td>\n",
       "      <td>GR</td>\n",
       "      <td>4</td>\n",
       "      <td>0</td>\n",
       "      <td>SUV</td>\n",
       "      <td>5</td>\n",
       "      <td>F</td>\n",
       "    </tr>\n",
       "    <tr>\n",
       "      <th>1</th>\n",
       "      <td>Citroen</td>\n",
       "      <td>C3</td>\n",
       "      <td>2004</td>\n",
       "      <td>2050</td>\n",
       "      <td>203415</td>\n",
       "      <td>M</td>\n",
       "      <td>4/5</td>\n",
       "      <td>0</td>\n",
       "      <td>50</td>\n",
       "      <td>1398.0</td>\n",
       "      <td>diesel</td>\n",
       "      <td>0</td>\n",
       "      <td>BL</td>\n",
       "      <td>4</td>\n",
       "      <td>0</td>\n",
       "      <td>SDN</td>\n",
       "      <td>3</td>\n",
       "      <td>F</td>\n",
       "    </tr>\n",
       "    <tr>\n",
       "      <th>2</th>\n",
       "      <td>Fiat</td>\n",
       "      <td>Doblo</td>\n",
       "      <td>2015</td>\n",
       "      <td>7300</td>\n",
       "      <td>115000</td>\n",
       "      <td>M</td>\n",
       "      <td>4/5</td>\n",
       "      <td>0</td>\n",
       "      <td>55</td>\n",
       "      <td>1248.0</td>\n",
       "      <td>diesel</td>\n",
       "      <td>1</td>\n",
       "      <td>WH</td>\n",
       "      <td>2</td>\n",
       "      <td>0</td>\n",
       "      <td>PU</td>\n",
       "      <td>5</td>\n",
       "      <td>F</td>\n",
       "    </tr>\n",
       "    <tr>\n",
       "      <th>3</th>\n",
       "      <td>Citroen</td>\n",
       "      <td>C3</td>\n",
       "      <td>2003</td>\n",
       "      <td>2099</td>\n",
       "      <td>180000</td>\n",
       "      <td>M</td>\n",
       "      <td>4/5</td>\n",
       "      <td>0</td>\n",
       "      <td>44</td>\n",
       "      <td>1124.0</td>\n",
       "      <td>petrol</td>\n",
       "      <td>1</td>\n",
       "      <td>GR</td>\n",
       "      <td>4</td>\n",
       "      <td>0</td>\n",
       "      <td>HB</td>\n",
       "      <td>3</td>\n",
       "      <td>F</td>\n",
       "    </tr>\n",
       "    <tr>\n",
       "      <th>4</th>\n",
       "      <td>Opel</td>\n",
       "      <td>Corsa</td>\n",
       "      <td>2007</td>\n",
       "      <td>3000</td>\n",
       "      <td>174000</td>\n",
       "      <td>M</td>\n",
       "      <td>2/3</td>\n",
       "      <td>0</td>\n",
       "      <td>66</td>\n",
       "      <td>1248.0</td>\n",
       "      <td>diesel</td>\n",
       "      <td>1</td>\n",
       "      <td>BL</td>\n",
       "      <td>2</td>\n",
       "      <td>0</td>\n",
       "      <td>HB</td>\n",
       "      <td>4</td>\n",
       "      <td>F</td>\n",
       "    </tr>\n",
       "  </tbody>\n",
       "</table>\n",
       "</div>"
      ],
      "text/plain": [
       "     brand   make  year  price      km gearbox doors  imported  kW     cm3  \\\n",
       "0  Hyundai   ix35  2012   9000  143500       M   4/5         0  90  1600.0   \n",
       "1  Citroen     C3  2004   2050  203415       M   4/5         0  50  1398.0   \n",
       "2     Fiat  Doblo  2015   7300  115000       M   4/5         0  55  1248.0   \n",
       "3  Citroen     C3  2003   2099  180000       M   4/5         0  44  1124.0   \n",
       "4     Opel  Corsa  2007   3000  174000       M   2/3         0  66  1248.0   \n",
       "\n",
       "     fuel  registered color  aircon  damage car_type  standard drive  \n",
       "0  petrol           0    GR       4       0      SUV         5     F  \n",
       "1  diesel           0    BL       4       0      SDN         3     F  \n",
       "2  diesel           1    WH       2       0       PU         5     F  \n",
       "3  petrol           1    GR       4       0       HB         3     F  \n",
       "4  diesel           1    BL       2       0       HB         4     F  "
      ]
     },
     "execution_count": 3,
     "metadata": {},
     "output_type": "execute_result"
    }
   ],
   "source": [
    "raw_data.head()"
   ]
  },
  {
   "cell_type": "code",
   "execution_count": 4,
   "metadata": {},
   "outputs": [
    {
     "data": {
      "application/vnd.jupyter.widget-view+json": {
       "model_id": "0fa70f22cec14af7b3c867774b2d6b5b",
       "version_major": 2,
       "version_minor": 0
      },
      "text/plain": [
       "HBox(children=(FloatProgress(value=0.0, description='variables', max=18.0, style=ProgressStyle(description_wid…"
      ]
     },
     "metadata": {},
     "output_type": "display_data"
    },
    {
     "name": "stdout",
     "output_type": "stream",
     "text": [
      "\n"
     ]
    },
    {
     "data": {
      "application/vnd.jupyter.widget-view+json": {
       "model_id": "90a4e45ca8844ee8984670d21de03570",
       "version_major": 2,
       "version_minor": 0
      },
      "text/plain": [
       "HBox(children=(FloatProgress(value=0.0, description='correlations', max=6.0, style=ProgressStyle(description_w…"
      ]
     },
     "metadata": {},
     "output_type": "display_data"
    },
    {
     "name": "stdout",
     "output_type": "stream",
     "text": [
      "\n"
     ]
    },
    {
     "data": {
      "application/vnd.jupyter.widget-view+json": {
       "model_id": "49eb07b697a242beb3034581b9b9e52c",
       "version_major": 2,
       "version_minor": 0
      },
      "text/plain": [
       "HBox(children=(FloatProgress(value=0.0, description='interactions [continuous]', max=49.0, style=ProgressStyle…"
      ]
     },
     "metadata": {},
     "output_type": "display_data"
    },
    {
     "name": "stdout",
     "output_type": "stream",
     "text": [
      "\n"
     ]
    },
    {
     "data": {
      "application/vnd.jupyter.widget-view+json": {
       "model_id": "48f992cdf3c64978be242ed872a8c1cb",
       "version_major": 2,
       "version_minor": 0
      },
      "text/plain": [
       "HBox(children=(FloatProgress(value=0.0, description='table', max=1.0, style=ProgressStyle(description_width='i…"
      ]
     },
     "metadata": {},
     "output_type": "display_data"
    },
    {
     "name": "stdout",
     "output_type": "stream",
     "text": [
      "\n"
     ]
    },
    {
     "data": {
      "application/vnd.jupyter.widget-view+json": {
       "model_id": "e67abc5b62524504bf1bac4d899e8794",
       "version_major": 2,
       "version_minor": 0
      },
      "text/plain": [
       "HBox(children=(FloatProgress(value=0.0, description='missing', max=2.0, style=ProgressStyle(description_width=…"
      ]
     },
     "metadata": {},
     "output_type": "display_data"
    },
    {
     "name": "stdout",
     "output_type": "stream",
     "text": [
      "\n"
     ]
    },
    {
     "data": {
      "application/vnd.jupyter.widget-view+json": {
       "model_id": "505b4f6786804dd1afa5e75c93d6f54c",
       "version_major": 2,
       "version_minor": 0
      },
      "text/plain": [
       "HBox(children=(FloatProgress(value=0.0, description='warnings', max=3.0, style=ProgressStyle(description_width…"
      ]
     },
     "metadata": {},
     "output_type": "display_data"
    },
    {
     "name": "stdout",
     "output_type": "stream",
     "text": [
      "\n"
     ]
    },
    {
     "data": {
      "application/vnd.jupyter.widget-view+json": {
       "model_id": "8ad4fa1fc78f42dfb4f04546d7403eea",
       "version_major": 2,
       "version_minor": 0
      },
      "text/plain": [
       "HBox(children=(FloatProgress(value=0.0, description='package', max=1.0, style=ProgressStyle(description_width=…"
      ]
     },
     "metadata": {},
     "output_type": "display_data"
    },
    {
     "name": "stdout",
     "output_type": "stream",
     "text": [
      "\n"
     ]
    },
    {
     "data": {
      "application/vnd.jupyter.widget-view+json": {
       "model_id": "0fd9b014c44344d987a9b07acea138f1",
       "version_major": 2,
       "version_minor": 0
      },
      "text/plain": [
       "HBox(children=(FloatProgress(value=0.0, description='build report structure', max=1.0, style=ProgressStyle(des…"
      ]
     },
     "metadata": {},
     "output_type": "display_data"
    },
    {
     "name": "stdout",
     "output_type": "stream",
     "text": [
      "\n"
     ]
    }
   ],
   "source": [
    "profile = profile = ProfileReport(raw_data)"
   ]
  },
  {
   "cell_type": "code",
   "execution_count": 5,
   "metadata": {},
   "outputs": [
    {
     "data": {
      "application/vnd.jupyter.widget-view+json": {
       "model_id": "58237c9621854cb4af94a349fc6ccc29",
       "version_major": 2,
       "version_minor": 0
      },
      "text/plain": [
       "Tab(children=(Tab(children=(GridBox(children=(VBox(children=(GridspecLayout(children=(HTML(value='Number of va…"
      ]
     },
     "metadata": {},
     "output_type": "display_data"
    },
    {
     "data": {
      "text/html": [
       "Report generated with <a href=\"https://github.com/pandas-profiling/pandas-profiling\">pandas-profiling</a>."
      ],
      "text/plain": [
       "<IPython.core.display.HTML object>"
      ]
     },
     "metadata": {},
     "output_type": "display_data"
    }
   ],
   "source": [
    "profile.to_widgets()"
   ]
  },
  {
   "cell_type": "markdown",
   "metadata": {},
   "source": [
    "### Seaborn plotting & Outlier removal\n",
    "\n",
    "You *must* know Matplotlib, but you might not know Seaborn. It is very useful and it gives your notebooks and charts a professional look. Oh, it is quite useful too. A guy named Yiannis Pitsillides has a really good and fast youtube series on Seaborn so you should check it out. There are also some cool [cheatsheets](https://www.datacamp.com/community/blog/seaborn-cheat-sheet-python) from Datacamp to get you up and running fast."
   ]
  },
  {
   "cell_type": "markdown",
   "metadata": {},
   "source": [
    "#### Price analysis and transformation\n",
    "\n",
    "The first and also the most important variable, our *target variable* in this analysis is the car price, so it seems logical to start with that."
   ]
  },
  {
   "cell_type": "code",
   "execution_count": 6,
   "metadata": {},
   "outputs": [
    {
     "data": {
      "text/plain": [
       "count      7323.000000\n",
       "mean       5517.203469\n",
       "std        8658.753195\n",
       "min           2.000000\n",
       "25%        2000.000000\n",
       "50%        3499.000000\n",
       "75%        6900.000000\n",
       "max      499990.000000\n",
       "Name: price, dtype: float64"
      ]
     },
     "execution_count": 6,
     "metadata": {},
     "output_type": "execute_result"
    }
   ],
   "source": [
    "raw_data.price.describe()"
   ]
  },
  {
   "cell_type": "markdown",
   "metadata": {},
   "source": [
    "While the car advertised for half a million euros *does exist* (spoiler: it is a Lambo), the two-euro cars do not. This is an ongoing issue with data validation and users and web forms.\n",
    "\n",
    "![xkcd](https://imgs.xkcd.com/comics/form.png)\n",
    "\n",
    "While this could be a case for further investigation, I will just cut left and right and basically say that only cars priced from 500 euros to 30.000 euros are retained. It is a deliberate decision and the beauty of jupyter notebooks is that it could be easily changed or, even better, parametrized in a function."
   ]
  },
  {
   "cell_type": "code",
   "execution_count": 7,
   "metadata": {},
   "outputs": [],
   "source": [
    "# sensible defaults\n",
    "raw_data = raw_data[raw_data.price.between(500,30000)]"
   ]
  },
  {
   "cell_type": "code",
   "execution_count": 8,
   "metadata": {},
   "outputs": [
    {
     "data": {
      "text/html": [
       "<div>\n",
       "<style scoped>\n",
       "    .dataframe tbody tr th:only-of-type {\n",
       "        vertical-align: middle;\n",
       "    }\n",
       "\n",
       "    .dataframe tbody tr th {\n",
       "        vertical-align: top;\n",
       "    }\n",
       "\n",
       "    .dataframe thead th {\n",
       "        text-align: right;\n",
       "    }\n",
       "</style>\n",
       "<table border=\"1\" class=\"dataframe\">\n",
       "  <thead>\n",
       "    <tr style=\"text-align: right;\">\n",
       "      <th></th>\n",
       "      <th>year</th>\n",
       "      <th>price</th>\n",
       "      <th>km</th>\n",
       "      <th>imported</th>\n",
       "      <th>kW</th>\n",
       "      <th>cm3</th>\n",
       "      <th>registered</th>\n",
       "      <th>aircon</th>\n",
       "      <th>damage</th>\n",
       "      <th>standard</th>\n",
       "    </tr>\n",
       "  </thead>\n",
       "  <tbody>\n",
       "    <tr>\n",
       "      <th>count</th>\n",
       "      <td>7082.000000</td>\n",
       "      <td>7082.000000</td>\n",
       "      <td>7.082000e+03</td>\n",
       "      <td>7082.000000</td>\n",
       "      <td>7082.000000</td>\n",
       "      <td>7.082000e+03</td>\n",
       "      <td>7082.000000</td>\n",
       "      <td>7082.000000</td>\n",
       "      <td>7082.000000</td>\n",
       "      <td>7082.000000</td>\n",
       "    </tr>\n",
       "    <tr>\n",
       "      <th>mean</th>\n",
       "      <td>2007.354137</td>\n",
       "      <td>5239.973736</td>\n",
       "      <td>1.795739e+05</td>\n",
       "      <td>0.273793</td>\n",
       "      <td>98.493081</td>\n",
       "      <td>2.035133e+03</td>\n",
       "      <td>0.407653</td>\n",
       "      <td>2.852443</td>\n",
       "      <td>0.002400</td>\n",
       "      <td>4.014826</td>\n",
       "    </tr>\n",
       "    <tr>\n",
       "      <th>std</th>\n",
       "      <td>5.440409</td>\n",
       "      <td>4610.710009</td>\n",
       "      <td>8.794928e+04</td>\n",
       "      <td>0.445935</td>\n",
       "      <td>922.954639</td>\n",
       "      <td>2.026265e+04</td>\n",
       "      <td>0.491433</td>\n",
       "      <td>1.233781</td>\n",
       "      <td>0.048939</td>\n",
       "      <td>0.971232</td>\n",
       "    </tr>\n",
       "    <tr>\n",
       "      <th>min</th>\n",
       "      <td>1972.000000</td>\n",
       "      <td>500.000000</td>\n",
       "      <td>0.000000e+00</td>\n",
       "      <td>0.000000</td>\n",
       "      <td>1.000000</td>\n",
       "      <td>1.000000e+00</td>\n",
       "      <td>0.000000</td>\n",
       "      <td>0.000000</td>\n",
       "      <td>0.000000</td>\n",
       "      <td>1.000000</td>\n",
       "    </tr>\n",
       "    <tr>\n",
       "      <th>25%</th>\n",
       "      <td>2004.000000</td>\n",
       "      <td>2100.000000</td>\n",
       "      <td>1.429420e+05</td>\n",
       "      <td>0.000000</td>\n",
       "      <td>66.000000</td>\n",
       "      <td>1.461000e+03</td>\n",
       "      <td>0.000000</td>\n",
       "      <td>2.000000</td>\n",
       "      <td>0.000000</td>\n",
       "      <td>3.000000</td>\n",
       "    </tr>\n",
       "    <tr>\n",
       "      <th>50%</th>\n",
       "      <td>2007.000000</td>\n",
       "      <td>3550.000000</td>\n",
       "      <td>1.780000e+05</td>\n",
       "      <td>0.000000</td>\n",
       "      <td>80.000000</td>\n",
       "      <td>1.689000e+03</td>\n",
       "      <td>0.000000</td>\n",
       "      <td>3.000000</td>\n",
       "      <td>0.000000</td>\n",
       "      <td>4.000000</td>\n",
       "    </tr>\n",
       "    <tr>\n",
       "      <th>75%</th>\n",
       "      <td>2011.000000</td>\n",
       "      <td>6900.000000</td>\n",
       "      <td>2.141360e+05</td>\n",
       "      <td>1.000000</td>\n",
       "      <td>102.000000</td>\n",
       "      <td>1.969750e+03</td>\n",
       "      <td>1.000000</td>\n",
       "      <td>4.000000</td>\n",
       "      <td>0.000000</td>\n",
       "      <td>5.000000</td>\n",
       "    </tr>\n",
       "    <tr>\n",
       "      <th>max</th>\n",
       "      <td>2019.000000</td>\n",
       "      <td>29999.000000</td>\n",
       "      <td>3.000000e+06</td>\n",
       "      <td>1.000000</td>\n",
       "      <td>77105.000000</td>\n",
       "      <td>1.686980e+06</td>\n",
       "      <td>1.000000</td>\n",
       "      <td>4.000000</td>\n",
       "      <td>1.000000</td>\n",
       "      <td>6.000000</td>\n",
       "    </tr>\n",
       "  </tbody>\n",
       "</table>\n",
       "</div>"
      ],
      "text/plain": [
       "              year         price            km     imported            kW  \\\n",
       "count  7082.000000   7082.000000  7.082000e+03  7082.000000   7082.000000   \n",
       "mean   2007.354137   5239.973736  1.795739e+05     0.273793     98.493081   \n",
       "std       5.440409   4610.710009  8.794928e+04     0.445935    922.954639   \n",
       "min    1972.000000    500.000000  0.000000e+00     0.000000      1.000000   \n",
       "25%    2004.000000   2100.000000  1.429420e+05     0.000000     66.000000   \n",
       "50%    2007.000000   3550.000000  1.780000e+05     0.000000     80.000000   \n",
       "75%    2011.000000   6900.000000  2.141360e+05     1.000000    102.000000   \n",
       "max    2019.000000  29999.000000  3.000000e+06     1.000000  77105.000000   \n",
       "\n",
       "                cm3   registered       aircon       damage     standard  \n",
       "count  7.082000e+03  7082.000000  7082.000000  7082.000000  7082.000000  \n",
       "mean   2.035133e+03     0.407653     2.852443     0.002400     4.014826  \n",
       "std    2.026265e+04     0.491433     1.233781     0.048939     0.971232  \n",
       "min    1.000000e+00     0.000000     0.000000     0.000000     1.000000  \n",
       "25%    1.461000e+03     0.000000     2.000000     0.000000     3.000000  \n",
       "50%    1.689000e+03     0.000000     3.000000     0.000000     4.000000  \n",
       "75%    1.969750e+03     1.000000     4.000000     0.000000     5.000000  \n",
       "max    1.686980e+06     1.000000     4.000000     1.000000     6.000000  "
      ]
     },
     "execution_count": 8,
     "metadata": {},
     "output_type": "execute_result"
    }
   ],
   "source": [
    "raw_data.describe()"
   ]
  },
  {
   "cell_type": "markdown",
   "metadata": {},
   "source": [
    "We are seeing gibberish in the *other* columns, but now we are dealing only with price. The next thing to check is the shape of the distribution ot a histogram. [This Kaggle notebook](https://www.kaggle.com/serigne/stacked-regressions-top-4-on-leaderboard) is incredibly useful and thorough and I have stolen more than one trick from it. One of those is the following way to plot the price histogram."
   ]
  },
  {
   "cell_type": "code",
   "execution_count": 9,
   "metadata": {},
   "outputs": [
    {
     "data": {
      "image/png": "[encoded data removed]",
      "text/plain": [
       "<Figure size 576x396 with 1 Axes>"
      ]
     },
     "metadata": {},
     "output_type": "display_data"
    },
    {
     "data": {
      "image/png": "[encoded data removed]",
      "text/plain": [
       "<Figure size 576x396 with 1 Axes>"
      ]
     },
     "metadata": {},
     "output_type": "display_data"
    }
   ],
   "source": [
    "sns.distplot(raw_data.price, fit=norm);\n",
    "(mu, sigma) = norm.fit(raw_data['price'])\n",
    "\n",
    "plt.legend(['Normal dist. ($\\mu=$ {:.2f} and $\\sigma=$ {:.2f} )'.format(mu, sigma)],\n",
    "            loc='best')\n",
    "plt.ylabel('Frequency')\n",
    "plt.title('Price distribution')\n",
    "\n",
    "#Get also the QQ-plot\n",
    "fig = plt.figure()\n",
    "res = stats.probplot(raw_data['price'], plot=plt)\n",
    "plt.show()"
   ]
  },
  {
   "cell_type": "markdown",
   "metadata": {},
   "source": [
    "### Skewness and kurtosis\n",
    "\n",
    "The aformentioned Kaggle notebook states: *The target variable is right skewed. As (linear) models love normally distributed data , we need to transform this variable and make it more normally distributed.* \n",
    "\n",
    "This is something I want to leave for later, since I want to save the data _without_ this transformation first."
   ]
  },
  {
   "cell_type": "markdown",
   "metadata": {},
   "source": [
    "### Year variable"
   ]
  },
  {
   "cell_type": "code",
   "execution_count": null,
   "metadata": {},
   "outputs": [],
   "source": [
    "sns.distplot(raw_data.year, color='magenta');"
   ]
  },
  {
   "cell_type": "code",
   "execution_count": null,
   "metadata": {},
   "outputs": [],
   "source": [
    "# sensible defaults\n",
    "raw_data = raw_data[raw_data.year.between(1985,2020)]"
   ]
  },
  {
   "cell_type": "code",
   "execution_count": null,
   "metadata": {},
   "outputs": [],
   "source": [
    "raw_data.describe()"
   ]
  },
  {
   "cell_type": "markdown",
   "metadata": {},
   "source": [
    "#### Description\n",
    "- we have lost approximately 200 data points which is quite a lot\n",
    "- cleaned the outliers but also some perfectly valid points - i.e. cars wich are very old\n",
    "- I hope that this will facilitate the regression"
   ]
  },
  {
   "cell_type": "code",
   "execution_count": null,
   "metadata": {},
   "outputs": [],
   "source": [
    "sns.distplot(raw_data.year, color='#46b038');"
   ]
  },
  {
   "cell_type": "markdown",
   "metadata": {},
   "source": [
    "We could say that this is a bimodal distribution: we can see two spikes - around the 2006 and then 2015. Logically this makes sense: in the majority of cases the cars are either sold after the fist 4-5 years after being acquired and after the end of the warranty period, or when they begin to break down (after 15 years). Unfortunately, my _Stilo 2006_ falls into the second category - the big spike."
   ]
  },
  {
   "cell_type": "markdown",
   "metadata": {},
   "source": [
    "### Kilometers"
   ]
  },
  {
   "cell_type": "markdown",
   "metadata": {},
   "source": [
    "This is probably the most controversial and most _faked_ variable in this dataset. Balkan countries, especially thos which aren't (yet) members of the EU are known for having hundreds if not thousands of cars with tampered odometers. It's one of those things - everybody knows it, the buyers know it, the sellers know it and the authorities know it, but nobody is doing anything about it.\n",
    "\n",
    "At it's most basic level of observation, the distribution of mileages should be normal - follow the age distribution."
   ]
  },
  {
   "cell_type": "code",
   "execution_count": null,
   "metadata": {},
   "outputs": [],
   "source": [
    "sns.distplot(raw_data.km, color='magenta');"
   ]
  },
  {
   "cell_type": "markdown",
   "metadata": {},
   "source": [
    "I'll do the same thing: discard some data points and apply a hard filter: any car with a mileage between 3000 and 450000 km will be kept, others must go."
   ]
  },
  {
   "cell_type": "code",
   "execution_count": null,
   "metadata": {},
   "outputs": [],
   "source": [
    "# sensible defaults\n",
    "raw_data = raw_data[raw_data.km.between(3000,450000)]"
   ]
  },
  {
   "cell_type": "code",
   "execution_count": null,
   "metadata": {},
   "outputs": [],
   "source": [
    "sns.distplot(raw_data.km, color=color_green).set_title(\"KM distribution after outlier removal\");"
   ]
  },
  {
   "cell_type": "code",
   "execution_count": null,
   "metadata": {},
   "outputs": [],
   "source": [
    "raw_data.describe()"
   ]
  },
  {
   "cell_type": "markdown",
   "metadata": {},
   "source": [
    "We are bleeding data points here and I am well aware of it. All of these *filters* could be and probably should be defined in a more granular and precise way. I am going to keep it for now, but this is like a second checkpoint - a deliberate choice that was made that could potentially affect the results."
   ]
  },
  {
   "cell_type": "markdown",
   "metadata": {},
   "source": [
    "#### Replace year with age\n",
    "\n",
    "I do not want to keep the year variable - instead I will convert it to an age variable."
   ]
  },
  {
   "cell_type": "code",
   "execution_count": null,
   "metadata": {},
   "outputs": [],
   "source": [
    "raw_data['age']=2020-raw_data['year']\n",
    "raw_data = raw_data.drop(['year'],axis=1)\n",
    "raw_data.describe()"
   ]
  },
  {
   "cell_type": "markdown",
   "metadata": {},
   "source": [
    "### Kws and cm3s\n",
    "\n",
    "These two variables - both numerical - are highly correlated: they define the power of the vehicle. I could probably keep just one of them, but I was hoping that their ratio could give me some additional insight into the cars dataset. Newer car models generally manage to squeeze more power out of the same engine displacement (in $cm^3$) so a bigger ratio $kW/cm^3$ theoretically should indicate newer cars... \n",
    "\n",
    "The two variables are, however, almost completely correlated and should probably be replaced with just one of them."
   ]
  },
  {
   "cell_type": "code",
   "execution_count": null,
   "metadata": {},
   "outputs": [],
   "source": [
    "sns.distplot(raw_data.kW, color='magenta');"
   ]
  },
  {
   "cell_type": "markdown",
   "metadata": {},
   "source": [
    "This is, again, totally arbitrary... I'll just take something that I consider to be a really big car and check it's engine to see what could be a reasonable maximum. For the minimum, I'll settle with a Yugo. Audi A8 quattro - 338 kW and almost 4000 cm3.\n",
    "\n",
    "For the Yugo, 33kW and 900 cm3 seem to be the specs. I'll take these two models as the two ends of my car spectrum."
   ]
  },
  {
   "cell_type": "code",
   "execution_count": null,
   "metadata": {},
   "outputs": [],
   "source": [
    "# sensible defaults\n",
    "raw_data = raw_data[raw_data.kW.between(30,400)]"
   ]
  },
  {
   "cell_type": "code",
   "execution_count": null,
   "metadata": {},
   "outputs": [],
   "source": [
    "sns.distplot(raw_data.kW, color=color_green);"
   ]
  },
  {
   "cell_type": "code",
   "execution_count": null,
   "metadata": {},
   "outputs": [],
   "source": [
    "sns.distplot(raw_data.cm3, color='magenta');"
   ]
  },
  {
   "cell_type": "code",
   "execution_count": null,
   "metadata": {},
   "outputs": [],
   "source": [
    "# sensible defaults\n",
    "raw_data = raw_data[raw_data.cm3.between(900,4300)]"
   ]
  },
  {
   "cell_type": "code",
   "execution_count": null,
   "metadata": {},
   "outputs": [],
   "source": [
    "sns.distplot(raw_data.cm3, color=color_green);"
   ]
  },
  {
   "cell_type": "markdown",
   "metadata": {},
   "source": [
    "This plot makes perfect sense: again we have a bimodal distribution the vast majority of cars uses engines with app. 1900-2000 cm3, or 1.6 litres."
   ]
  },
  {
   "cell_type": "code",
   "execution_count": null,
   "metadata": {},
   "outputs": [],
   "source": [
    "raw_data.describe()"
   ]
  },
  {
   "cell_type": "code",
   "execution_count": null,
   "metadata": {},
   "outputs": [],
   "source": [
    "raw_data.columns"
   ]
  },
  {
   "cell_type": "markdown",
   "metadata": {},
   "source": [
    "## Scatter plots for numerical data\n",
    "\n",
    "I will plot some scatter plots in order to see obvious correlations or relationships."
   ]
  },
  {
   "cell_type": "code",
   "execution_count": null,
   "metadata": {},
   "outputs": [],
   "source": [
    "# the pandas plot verison that I do not want to use\n",
    "#raw_data.plot.scatter(x='age',y='price', alpha=0.7);\n",
    "\n",
    "# the seaborn version\n",
    "ax = sns.scatterplot(x=\"age\", y=\"price\",hue=\"fuel\", data=raw_data)"
   ]
  },
  {
   "cell_type": "markdown",
   "metadata": {},
   "source": [
    "As expected: the price falls pretty fast with the car age. We could further analyze this - it would be nice to compare how different car brands become cheaper with time... And is it true that Volkswagens are champions?"
   ]
  },
  {
   "cell_type": "code",
   "execution_count": null,
   "metadata": {},
   "outputs": [],
   "source": [
    "#raw_data.plot.scatter(x='km',y='price');\n",
    "\n",
    "ax = sns.scatterplot(x=\"km\", y=\"price\", hue=\"fuel\", data=raw_data)"
   ]
  },
  {
   "cell_type": "markdown",
   "metadata": {},
   "source": [
    "This is where I smell something fishy: it *should* resemble the year/price chart at least partially"
   ]
  },
  {
   "cell_type": "code",
   "execution_count": null,
   "metadata": {},
   "outputs": [],
   "source": [
    "# raw_data.plot.scatter(x='cm3',y='price');\n",
    "\n",
    "ax = sns.scatterplot(x=\"cm3\", y=\"price\", hue=\"fuel\", data=raw_data)"
   ]
  },
  {
   "cell_type": "code",
   "execution_count": null,
   "metadata": {},
   "outputs": [],
   "source": [
    "ax = sns.scatterplot(x=\"age\", y=\"km\", hue=\"fuel\", data=raw_data)"
   ]
  },
  {
   "cell_type": "code",
   "execution_count": null,
   "metadata": {},
   "outputs": [],
   "source": [
    "ax = sns.pairplot(raw_data, vars=[\"age\", \"km\"])"
   ]
  },
  {
   "cell_type": "markdown",
   "metadata": {},
   "source": [
    "### Correlation heatmap\n",
    "\n",
    "Finally, I want to see a correlation heatmap with the numerical variables."
   ]
  },
  {
   "cell_type": "code",
   "execution_count": null,
   "metadata": {},
   "outputs": [],
   "source": [
    "corrmat = raw_data.corr()\n",
    "plt.subplots(figsize=(12,9))\n",
    "sns.heatmap(corrmat, vmax=0.9, square=True, linewidths=.5, cmap=\"YlGnBu\");"
   ]
  },
  {
   "cell_type": "markdown",
   "metadata": {},
   "source": [
    "## Categorical features encoding\n",
    "\n",
    "- Which are the variables\n",
    "- What do they mean and how they might affect the target"
   ]
  },
  {
   "cell_type": "code",
   "execution_count": null,
   "metadata": {},
   "outputs": [],
   "source": [
    "# Let's see the columns again...\n",
    "raw_data.columns"
   ]
  },
  {
   "cell_type": "markdown",
   "metadata": {},
   "source": [
    "## Gearbox\n",
    "\n",
    "The gearbox variable is quite simple:\n",
    "\n",
    "- M means *manual*\n",
    "- A means *automatic*\n",
    "- S means *semiautomatic*"
   ]
  },
  {
   "cell_type": "code",
   "execution_count": null,
   "metadata": {},
   "outputs": [],
   "source": [
    "ax = sns.countplot(x=\"gearbox\", data=raw_data)"
   ]
  },
  {
   "cell_type": "code",
   "execution_count": null,
   "metadata": {},
   "outputs": [],
   "source": [
    "raw_data.groupby('gearbox')['price'].mean().sort_values(ascending=False).plot.bar();"
   ]
  },
  {
   "cell_type": "markdown",
   "metadata": {},
   "source": [
    "## Answering some questions\n",
    "\n",
    "It would be silly to pass such a great opportunity to query the dataset and try to obtain some answers that could be potentially interesting:\n",
    "\n",
    "- who is the most popular manufacturer?\n",
    "- what about the models?\n",
    "- petrol or diesel?\n",
    "- average mileage per car type etc.?"
   ]
  },
  {
   "cell_type": "code",
   "execution_count": null,
   "metadata": {},
   "outputs": [],
   "source": [
    "plot_series = raw_data.groupby(['brand'])['price'].count().sort_values(ascending=False)[:10].plot.barh(\n",
    "    title=\"Top 10 brands by popularity\", width=0.8).invert_yaxis()"
   ]
  },
  {
   "cell_type": "code",
   "execution_count": null,
   "metadata": {},
   "outputs": [],
   "source": [
    "plot_series = raw_data.groupby(['make'])['price'].count().sort_values(ascending=False)[:10].plot.barh(\n",
    "    title=\"Top 10 models by popularity\", width=0.8).invert_yaxis()"
   ]
  },
  {
   "cell_type": "code",
   "execution_count": null,
   "metadata": {},
   "outputs": [],
   "source": [
    "plot_series = raw_data[raw_data['brand']=='Fiat'].groupby(['make'])['price'].count().sort_values(ascending=False)[:10].plot.barh(\n",
    "    title=\"Top FIAT 10 models by popularity\", width=0.8).invert_yaxis()"
   ]
  },
  {
   "cell_type": "code",
   "execution_count": null,
   "metadata": {},
   "outputs": [],
   "source": [
    "plot_series = raw_data[raw_data['car_type']=='SUV'].groupby(['make'])['price'].count().sort_values(ascending=False)[:10].plot.barh(\n",
    "    title=\"Top 10 SUV models by popularity\", width=0.8).invert_yaxis()"
   ]
  },
  {
   "cell_type": "code",
   "execution_count": null,
   "metadata": {},
   "outputs": [],
   "source": [
    "plot_series = raw_data.groupby(['brand'])['price'].mean().sort_values(ascending=False)[:10].plot.barh(\n",
    "    title=\"Top 10 brands by average price\", width=0.8).invert_yaxis()"
   ]
  },
  {
   "cell_type": "code",
   "execution_count": null,
   "metadata": {},
   "outputs": [],
   "source": [
    "plot_series = raw_data.groupby(['brand'])['price'].mean().sort_values(ascending=True)[:10].plot.barh(\n",
    "    title=\"Top 10 cheapest brands by average price\", width=0.8).invert_yaxis()"
   ]
  },
  {
   "cell_type": "code",
   "execution_count": null,
   "metadata": {},
   "outputs": [],
   "source": [
    "plot_series = raw_data.groupby(['make'])['age'].mean().sort_values(ascending=True)[:20].plot.barh(\n",
    "    title=\"Top 10 models by average age\", width=0.8).invert_yaxis()"
   ]
  },
  {
   "cell_type": "code",
   "execution_count": null,
   "metadata": {},
   "outputs": [],
   "source": [
    "plot_series = raw_data.groupby(['fuel'])['price'].mean().plot.barh(\n",
    "    title=\"Average prices for fuel type\", width=0.8).invert_yaxis()"
   ]
  },
  {
   "cell_type": "code",
   "execution_count": null,
   "metadata": {},
   "outputs": [],
   "source": [
    "plot_series = raw_data.groupby(['age'])['price'].mean().plot.bar(\n",
    "    title=\"Average prices by car age\", width=0.8)"
   ]
  },
  {
   "cell_type": "code",
   "execution_count": null,
   "metadata": {},
   "outputs": [],
   "source": [
    "plot_series = raw_data.groupby(['age'])['km'].mean().plot.bar(\n",
    "    title=\"Average mileage by car age\", width=0.8)"
   ]
  },
  {
   "cell_type": "markdown",
   "metadata": {},
   "source": [
    "### Additional column - country\n",
    "\n",
    "I believe that there is an implicit information hidden in the brand's country of origin. Some people simply prefer german cars, there is a pretty strong _french cluster_ - people who worship the Peugeot/Citroen/Renault vehicles, there might be a tiny italian niche as well. I will add a new variable denoted **country** and then hot-enode it with the others."
   ]
  },
  {
   "cell_type": "code",
   "execution_count": null,
   "metadata": {},
   "outputs": [],
   "source": [
    "raw_data['brand'].value_counts()"
   ]
  },
  {
   "cell_type": "code",
   "execution_count": null,
   "metadata": {},
   "outputs": [],
   "source": [
    "german = ['vw','opel','audi','bmw','mercedes','mini']\n",
    "italian = ['fiat','alfa romeo','lancia']\n",
    "french = ['peugeot','renault','citroen']\n",
    "asian = ['toyota','nissan','mazda','hyundai','kia','mitsubishi','daewoo','daihatsu','honda','subaru','suzuki']\n",
    "usa = ['ford','dodge','chrysler','chevrolet']\n",
    "eu = ['škoda','seat','dacia','jaguar','rover','smart','saab']\n",
    "yussr = ['yugo','zastava','lada']\n",
    "\n",
    "def get_country(item):\n",
    "    if item.lower() in german:\n",
    "        return 'German'\n",
    "    if item.lower() in italian:\n",
    "        return 'Italian'\n",
    "    if item.lower() in french:\n",
    "        return 'French'\n",
    "    if item.lower() in asian:\n",
    "        return 'Asian'\n",
    "    if item.lower() in usa:\n",
    "        return 'USA'\n",
    "    if item.lower() in eu:\n",
    "        return 'EU'\n",
    "    if item.lower() in yussr:\n",
    "        return 'YuSSR'\n",
    "    return \"Other\"\n",
    "\n",
    "raw_data['country'] = raw_data['brand'].apply(get_country)"
   ]
  },
  {
   "cell_type": "code",
   "execution_count": null,
   "metadata": {},
   "outputs": [],
   "source": [
    "raw_data.sample(10)"
   ]
  },
  {
   "cell_type": "code",
   "execution_count": null,
   "metadata": {},
   "outputs": [],
   "source": [
    "raw_data.groupby(['country'])['price'].count().sort_values(ascending=True).plot.barh(title='Number of cars by origin');"
   ]
  },
  {
   "cell_type": "code",
   "execution_count": null,
   "metadata": {},
   "outputs": [],
   "source": [
    "raw_data.groupby(['country'])['price'].mean().sort_values(ascending=True).plot.barh();"
   ]
  },
  {
   "cell_type": "markdown",
   "metadata": {},
   "source": [
    "This all country thing is obviously very arbitrary, but I believe it could help the model in some way and the prices seem to indicate this."
   ]
  },
  {
   "cell_type": "markdown",
   "metadata": {},
   "source": [
    "### Encoding the categorical variables\n",
    "- One Hot encoding with dropping\n",
    "- Save one csv file _without_ encoding: for CatBoost or different encodings"
   ]
  },
  {
   "cell_type": "code",
   "execution_count": null,
   "metadata": {},
   "outputs": [],
   "source": [
    "raw_data.to_csv('data_with_categories.csv',index=False)"
   ]
  },
  {
   "cell_type": "code",
   "execution_count": null,
   "metadata": {},
   "outputs": [],
   "source": [
    "#df = pd.concat([df,pd.get_dummies(df['mycol'], prefix='mycol',dummy_na=True)],axis=1).drop(['mycol'],axis=1)\n",
    "\n",
    "raw_data = pd.concat([raw_data, pd.get_dummies(raw_data['gearbox'],prefix='gearbox', drop_first=True)], axis=1).drop(['gearbox'], axis=1)"
   ]
  },
  {
   "cell_type": "code",
   "execution_count": null,
   "metadata": {},
   "outputs": [],
   "source": [
    "raw_data.sample(20)"
   ]
  },
  {
   "cell_type": "code",
   "execution_count": null,
   "metadata": {},
   "outputs": [],
   "source": [
    "# repeat for other categoricals\n",
    "categoricals = ['brand','make','doors', 'imported','fuel', 'color', 'aircon', 'car_type', 'drive','country']"
   ]
  },
  {
   "cell_type": "code",
   "execution_count": null,
   "metadata": {},
   "outputs": [],
   "source": [
    "for cat in categoricals:\n",
    "    print(\"One hot encoding category: \", cat)\n",
    "    raw_data = pd.concat([raw_data, pd.get_dummies(raw_data[cat],prefix=cat, drop_first=True)], axis=1).drop([cat], axis=1)"
   ]
  },
  {
   "cell_type": "code",
   "execution_count": null,
   "metadata": {},
   "outputs": [],
   "source": [
    "raw_data.head()"
   ]
  },
  {
   "cell_type": "code",
   "execution_count": null,
   "metadata": {},
   "outputs": [],
   "source": [
    "for col in raw_data.columns:\n",
    "    print(col)"
   ]
  },
  {
   "cell_type": "code",
   "execution_count": null,
   "metadata": {},
   "outputs": [],
   "source": [
    "len(raw_data.columns)"
   ]
  },
  {
   "cell_type": "code",
   "execution_count": null,
   "metadata": {},
   "outputs": [],
   "source": []
  },
  {
   "cell_type": "code",
   "execution_count": null,
   "metadata": {},
   "outputs": [],
   "source": []
  },
  {
   "cell_type": "markdown",
   "metadata": {},
   "source": [
    "### Saving two datasets\n",
    "\n",
    "I will save one dataset wich I am going to call **ready.csv** with the transformed data. The other dataset will be called **ready_t.csv** and there I will perform a log1 transformation of the target variable (price)."
   ]
  },
  {
   "cell_type": "code",
   "execution_count": null,
   "metadata": {},
   "outputs": [],
   "source": [
    "# save the cleaned but not transformed data...\n",
    "raw_data.to_csv('ready_full_dataset.csv',index=False)"
   ]
  },
  {
   "cell_type": "code",
   "execution_count": null,
   "metadata": {},
   "outputs": [],
   "source": [
    "#We use the numpy fuction log1p which  applies log(1+x) to all elements of the column\n",
    "raw_data[\"price_transformed\"] = np.log1p(raw_data[\"price\"])\n",
    "\n",
    "#Check the new distribution \n",
    "sns.distplot(raw_data['price_transformed'] , fit=norm);\n",
    "\n",
    "# Get the fitted parameters used by the function\n",
    "(mu, sigma) = norm.fit(raw_data['price_transformed'])\n",
    "print( '\\n mu = {:.2f} and sigma = {:.2f}\\n'.format(mu, sigma))\n",
    "\n",
    "#Now plot the distribution\n",
    "plt.legend(['Normal dist. ($\\mu=$ {:.2f} and $\\sigma=$ {:.2f} )'.format(mu, sigma)],\n",
    "            loc='best')\n",
    "plt.ylabel('Frequency')\n",
    "plt.title('Log1 Price Transformed distribution')\n",
    "\n",
    "#Get also the QQ-plot\n",
    "fig = plt.figure()\n",
    "res = stats.probplot(raw_data['price_transformed'], plot=plt)\n",
    "plt.show()"
   ]
  },
  {
   "cell_type": "code",
   "execution_count": null,
   "metadata": {},
   "outputs": [],
   "source": [
    " raw_data[['price','price_transformed']].head()"
   ]
  },
  {
   "cell_type": "code",
   "execution_count": null,
   "metadata": {},
   "outputs": [],
   "source": [
    "# save the cleaned AND transformed data...\n",
    "raw_data.to_csv('ready_t.csv',index=False)"
   ]
  },
  {
   "cell_type": "markdown",
   "metadata": {},
   "source": [
    "That's it for the first part. We have a dataset (the file ready_t.csv really holds all the relevant data, transformed and not)."
   ]
  }
 ],
 "metadata": {
  "kernelspec": {
   "display_name": "Python 3",
   "language": "python",
   "name": "python3"
  },
  "language_info": {
   "codemirror_mode": {
    "name": "ipython",
    "version": 3
   },
   "file_extension": ".py",
   "mimetype": "text/x-python",
   "name": "python",
   "nbconvert_exporter": "python",
   "pygments_lexer": "ipython3",
   "version": "3.6.10"
  }
 },
 "nbformat": 4,
 "nbformat_minor": 4
}
